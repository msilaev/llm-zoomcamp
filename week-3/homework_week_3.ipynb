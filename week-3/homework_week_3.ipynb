{
 "cells": [
  {
   "cell_type": "markdown",
   "id": "d715f104",
   "metadata": {},
   "source": [
    "## Question 1. dlt Version"
   ]
  },
  {
   "cell_type": "code",
   "execution_count": 1,
   "id": "76bd929a",
   "metadata": {},
   "outputs": [],
   "source": [
    "!pip install -q \"dlt[qdrant]\" \"qdrant-client[fastembed]\""
   ]
  },
  {
   "cell_type": "code",
   "execution_count": 4,
   "id": "93fd9652",
   "metadata": {},
   "outputs": [
    {
     "name": "stdout",
     "output_type": "stream",
     "text": [
      "Installed versions:\n",
      "qdrant-client: 1.14.3\n",
      "dlt: 1.13.0\n"
     ]
    }
   ],
   "source": [
    "import importlib.metadata\n",
    "\n",
    "print(\"Installed versions:\")\n",
    "print(\"qdrant-client:\", importlib.metadata.version(\"qdrant-client\"))\n",
    "print(\"dlt:\", importlib.metadata.version(\"dlt\"))"
   ]
  },
  {
   "cell_type": "code",
   "execution_count": 5,
   "id": "bfc94da0",
   "metadata": {},
   "outputs": [],
   "source": [
    "import requests\n",
    "import dlt\n",
    "import qdrant_client"
   ]
  },
  {
   "cell_type": "code",
   "execution_count": 8,
   "id": "a855bc0c",
   "metadata": {},
   "outputs": [],
   "source": [
    "@dlt.resource(write_disposition=\"replace\", name=\"zoomcamp_data\")\n",
    "def zoomcamp_data():\n",
    "    docs_url = 'https://github.com/alexeygrigorev/llm-rag-workshop/raw/main/notebooks/documents.json'\n",
    "    docs_response = requests.get(docs_url)\n",
    "    documents_raw = docs_response.json()\n",
    "\n",
    "    for course in documents_raw:\n",
    "        course_name = course['course']\n",
    "\n",
    "        for doc in course['documents']:\n",
    "            doc['course'] = course_name\n",
    "            yield doc"
   ]
  },
  {
   "cell_type": "markdown",
   "id": "e0d0553a",
   "metadata": {},
   "source": [
    "### Question 2. dlt pipeline"
   ]
  },
  {
   "cell_type": "code",
   "execution_count": 6,
   "id": "8c4931e8",
   "metadata": {},
   "outputs": [],
   "source": [
    "from dlt.destinations import qdrant\n",
    "\n",
    "qdrant_destination = qdrant(\n",
    "  qd_path=\"db.qdrant\", \n",
    ")"
   ]
  },
  {
   "cell_type": "code",
   "execution_count": 9,
   "id": "8c1c751f",
   "metadata": {},
   "outputs": [
    {
     "data": {
      "application/vnd.jupyter.widget-view+json": {
       "model_id": "ae69aa668d6a4311b52eaa1ab591062a",
       "version_major": 2,
       "version_minor": 0
      },
      "text/plain": [
       "Fetching 5 files:   0%|          | 0/5 [00:00<?, ?it/s]"
      ]
     },
     "metadata": {},
     "output_type": "display_data"
    },
    {
     "data": {
      "application/vnd.jupyter.widget-view+json": {
       "model_id": "b833cf9c849e4c8685b382a1a2e065bb",
       "version_major": 2,
       "version_minor": 0
      },
      "text/plain": [
       "tokenizer_config.json:   0%|          | 0.00/366 [00:00<?, ?B/s]"
      ]
     },
     "metadata": {},
     "output_type": "display_data"
    },
    {
     "data": {
      "application/vnd.jupyter.widget-view+json": {
       "model_id": "7276a38f809b455999f62d512dbaf527",
       "version_major": 2,
       "version_minor": 0
      },
      "text/plain": [
       "config.json:   0%|          | 0.00/701 [00:00<?, ?B/s]"
      ]
     },
     "metadata": {},
     "output_type": "display_data"
    },
    {
     "data": {
      "application/vnd.jupyter.widget-view+json": {
       "model_id": "83bea05ff1ec4d299a393d06a3a1da68",
       "version_major": 2,
       "version_minor": 0
      },
      "text/plain": [
       "special_tokens_map.json:   0%|          | 0.00/125 [00:00<?, ?B/s]"
      ]
     },
     "metadata": {},
     "output_type": "display_data"
    },
    {
     "name": "stderr",
     "output_type": "stream",
     "text": [
      "c:\\Users\\mikes\\anaconda3\\envs\\py11\\Lib\\site-packages\\huggingface_hub\\file_download.py:143: UserWarning: `huggingface_hub` cache-system uses symlinks by default to efficiently store duplicated files but your machine does not support them in C:\\Users\\mikes\\AppData\\Local\\Temp\\fastembed_cache\\models--Qdrant--bge-small-en. Caching files will still work but in a degraded version that might require more space on your disk. This warning can be disabled by setting the `HF_HUB_DISABLE_SYMLINKS_WARNING` environment variable. For more details, see https://huggingface.co/docs/huggingface_hub/how-to-cache#limitations.\n",
      "To support symlinks on Windows, you either need to activate Developer Mode or to run Python as an administrator. In order to activate developer mode, see this article: https://docs.microsoft.com/en-us/windows/apps/get-started/enable-your-device-for-development\n",
      "  warnings.warn(message)\n"
     ]
    },
    {
     "data": {
      "application/vnd.jupyter.widget-view+json": {
       "model_id": "887773eb17b6406b89471dfc9f49f362",
       "version_major": 2,
       "version_minor": 0
      },
      "text/plain": [
       "model_optimized.onnx:   0%|          | 0.00/133M [00:00<?, ?B/s]"
      ]
     },
     "metadata": {},
     "output_type": "display_data"
    },
    {
     "data": {
      "application/vnd.jupyter.widget-view+json": {
       "model_id": "6f9f11e12c7e456cae41b96c7ebae92d",
       "version_major": 2,
       "version_minor": 0
      },
      "text/plain": [
       "tokenizer.json: 0.00B [00:00, ?B/s]"
      ]
     },
     "metadata": {},
     "output_type": "display_data"
    },
    {
     "name": "stderr",
     "output_type": "stream",
     "text": [
      "\u001b[32m2025-07-10 22:09:38.002\u001b[0m | \u001b[31m\u001b[1mERROR   \u001b[0m | \u001b[36mfastembed.common.model_management\u001b[0m:\u001b[36mdownload_model\u001b[0m:\u001b[36m430\u001b[0m - \u001b[31m\u001b[1mCould not download model from HuggingFace: [WinError 1314] A required privilege is not held by the client: '..\\\\..\\\\blobs\\\\a8b3208c2884c4efb86e49300fdd3dc877220cdf' -> 'C:\\\\Users\\\\mikes\\\\AppData\\\\Local\\\\Temp\\\\fastembed_cache\\\\models--Qdrant--bge-small-en\\\\snapshots\\\\8791246cc2a79c7949a4dc0d4a018cbd7d024879\\\\special_tokens_map.json' Falling back to other sources.\u001b[0m\n",
      "100%|██████████| 77.7M/77.7M [00:47<00:00, 1.62MiB/s]\n"
     ]
    },
    {
     "data": {
      "application/vnd.jupyter.widget-view+json": {
       "model_id": "7a000e326bf1436c8a3cb835cfb66bd4",
       "version_major": 2,
       "version_minor": 0
      },
      "text/plain": [
       "Fetching 5 files:   0%|          | 0/5 [00:00<?, ?it/s]"
      ]
     },
     "metadata": {},
     "output_type": "display_data"
    },
    {
     "name": "stdout",
     "output_type": "stream",
     "text": [
      "Run started at 2025-07-10 19:08:23.271399+00:00 and COMPLETED in 2 minutes and 17.12 seconds with 4 steps.\n",
      "Step extract COMPLETED in 0.98 seconds.\n",
      "\n",
      "Load package 1752174627.5965326 is EXTRACTED and NOT YET LOADED to the destination and contains no failed jobs\n",
      "\n",
      "Step normalize COMPLETED in 0.19 seconds.\n",
      "Normalized data for the following tables:\n",
      "- zoomcamp_data: 948 row(s)\n",
      "- _dlt_pipeline_state: 1 row(s)\n",
      "\n",
      "Load package 1752174627.5965326 is NORMALIZED and NOT YET LOADED to the destination and contains no failed jobs\n",
      "\n",
      "Step load COMPLETED in 11.61 seconds.\n",
      "Pipeline zoomcamp_pipeline load step completed in 11.52 seconds\n",
      "1 load package(s) were loaded to destination qdrant and into dataset zoomcamp_tagged_data\n",
      "The qdrant destination used c:\\Users\\mikes\\Documents\\STUDY\\LLM-zoomcamp\\week-3\\db.qdrant location to store data\n",
      "Load package 1752174627.5965326 is LOADED and contains no failed jobs\n",
      "\n",
      "Step run COMPLETED in 2 minutes and 17.12 seconds.\n",
      "Pipeline zoomcamp_pipeline load step completed in 11.52 seconds\n",
      "1 load package(s) were loaded to destination qdrant and into dataset zoomcamp_tagged_data\n",
      "The qdrant destination used c:\\Users\\mikes\\Documents\\STUDY\\LLM-zoomcamp\\week-3\\db.qdrant location to store data\n",
      "Load package 1752174627.5965326 is LOADED and contains no failed jobs\n"
     ]
    }
   ],
   "source": [
    "pipeline = dlt.pipeline(\n",
    "    pipeline_name=\"zoomcamp_pipeline\",\n",
    "    destination=qdrant_destination,\n",
    "    dataset_name=\"zoomcamp_tagged_data\"\n",
    "\n",
    ")\n",
    "load_info = pipeline.run(zoomcamp_data())\n",
    "print(pipeline.last_trace)"
   ]
  },
  {
   "cell_type": "markdown",
   "id": "c98908cd",
   "metadata": {},
   "source": [
    "### Question 3. Embeddings\n",
    "\n",
    "When inserting the data, an embedding model was used. Which one?\n",
    "\n",
    "You can find this out by inspecting the meta.json file created in the target folder. During the data insertion process, a folder named db.qdrant will be created, and the meta.json file will be located inside this folder.\n"
   ]
  },
  {
   "cell_type": "code",
   "execution_count": 10,
   "id": "92396c2f",
   "metadata": {},
   "outputs": [
    {
     "name": "stdout",
     "output_type": "stream",
     "text": [
      "The model used for embeddings is: fast-bge-small-en\n"
     ]
    }
   ],
   "source": [
    "with open(\"db.qdrant/meta.json\", \"r\") as f:\n",
    "    meta = f.read()\n",
    "    model = meta.split('\"vectors\": {')[1].split(': {')[0].strip('\"')\n",
    "print(f\"The model used for embeddings is: {model}\")"
   ]
  },
  {
   "cell_type": "code",
   "execution_count": null,
   "id": "0b0580fd",
   "metadata": {},
   "outputs": [],
   "source": []
  }
 ],
 "metadata": {
  "kernelspec": {
   "display_name": "py11",
   "language": "python",
   "name": "python3"
  },
  "language_info": {
   "codemirror_mode": {
    "name": "ipython",
    "version": 3
   },
   "file_extension": ".py",
   "mimetype": "text/x-python",
   "name": "python",
   "nbconvert_exporter": "python",
   "pygments_lexer": "ipython3",
   "version": "3.11.13"
  }
 },
 "nbformat": 4,
 "nbformat_minor": 5
}
