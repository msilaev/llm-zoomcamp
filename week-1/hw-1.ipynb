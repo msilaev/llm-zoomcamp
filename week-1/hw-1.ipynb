{
 "cells": [
  {
   "cell_type": "markdown",
   "id": "8e8913c5",
   "metadata": {},
   "source": [
    "## LLM zoomcamp Homework 1"
   ]
  },
  {
   "cell_type": "markdown",
   "id": "7c6cd704",
   "metadata": {},
   "source": [
    "### Q 1 \n",
    "\n",
    "Run Elastic Search 8.17.6, and get the cluster information. What's the version.build_hash value?\n"
   ]
  },
  {
   "cell_type": "markdown",
   "id": "a7c83312",
   "metadata": {},
   "source": [
    "```bash\n",
    "docker stop $(docker ps -q)\n",
    "docker rm $(docker ps -aq)\n",
    "\n",
    "docker pull docker.elastic.co/elasticsearch/elasticsearch:8.17.6\n",
    "\n",
    "docker run -p 9200:9200 -e \"discovery.type=single-node\" -e \"ES_JAVA_OPTS=-Xms1g -Xmx1g\" --memory=\"2g\" -e \"xpack.security.enabled=false\" docker.elastic.co/elasticsearch/elasticsearch:8.17.6"
   ]
  },
  {
   "cell_type": "code",
   "execution_count": 17,
   "id": "fdf52347",
   "metadata": {},
   "outputs": [],
   "source": [
    "from elasticsearch import Elasticsearch\n",
    "import os \n",
    "from dotenv import load_dotenv\n",
    "import requests"
   ]
  },
  {
   "cell_type": "code",
   "execution_count": 18,
   "id": "869677bc",
   "metadata": {},
   "outputs": [],
   "source": [
    "response = requests.get(\"http://localhost:9200\")"
   ]
  },
  {
   "cell_type": "code",
   "execution_count": 19,
   "id": "d0ac5b3b",
   "metadata": {},
   "outputs": [],
   "source": [
    "data = response.json()\n"
   ]
  },
  {
   "cell_type": "code",
   "execution_count": 20,
   "id": "8064bae2",
   "metadata": {},
   "outputs": [
    {
     "name": "stdout",
     "output_type": "stream",
     "text": [
      "version.build_hash value is dbcbbbd0bc4924cfeb28929dc05d82d662c527b7 \n"
     ]
    }
   ],
   "source": [
    "print(f\"version.build_hash value is {data[\"version\"][\"build_hash\"]} \")"
   ]
  },
  {
   "cell_type": "code",
   "execution_count": 21,
   "id": "dadede86",
   "metadata": {},
   "outputs": [],
   "source": [
    "docs_url = 'https://github.com/DataTalksClub/llm-zoomcamp/blob/main/01-intro/documents.json?raw=1'\n",
    "docs_response = requests.get(docs_url)\n",
    "documents_raw = docs_response.json()\n",
    "\n",
    "documents = []\n",
    "\n",
    "for course in documents_raw:\n",
    "    course_name = course['course']\n",
    "\n",
    "    for doc in course['documents']:\n",
    "        doc['course'] = course_name\n",
    "        documents.append(doc)"
   ]
  },
  {
   "cell_type": "markdown",
   "id": "22eba5cb",
   "metadata": {},
   "source": [
    "### Q 2\n",
    "\n",
    "Index the data in the same way as was shown in the course videos. Make the course field a keyword and the rest should be text.\n",
    "\n",
    "Which function do you use for adding your data to elastic?"
   ]
  },
  {
   "cell_type": "code",
   "execution_count": 28,
   "id": "e5422f9f",
   "metadata": {},
   "outputs": [
    {
     "name": "stderr",
     "output_type": "stream",
     "text": [
      "/workspaces/llm-zoomcamp/week-1/minsearch.py:10: UserWarning: Now minsearch is installable via pip: 'pip install minsearch'. Remove the downloaded file and re-install it with pip.\n",
      "  warnings.warn(\n"
     ]
    }
   ],
   "source": [
    "import minsearch"
   ]
  },
  {
   "cell_type": "code",
   "execution_count": null,
   "id": "0f99ed17",
   "metadata": {},
   "outputs": [],
   "source": [
    "es_client = Elasticsearch('http://localhost:9200') \n",
    "from elasticsearch import Elasticsearch\n",
    "\n",
    "es_client = Elasticsearch(\"http://localhost:9200\")\n",
    "index_name = \"your_index_name\"\n",
    "\n",
    "mapping = {\n",
    "    \"mappings\": {\n",
    "        \"properties\": {\n",
    "            \"course\": {\"type\": \"keyword\"},\n",
    "            \"question\": {\"type\": \"text\"},\n",
    "            \"text\": {\"type\": \"text\"},\n",
    "            \"section\": {\"type\": \"text\"}\n",
    "        }\n",
    "    }\n",
    "}\n",
    "\n",
    "# Create the index with the mapping\n",
    "es_client.indices.create(index=index_name, body=mapping)"
   ]
  },
  {
   "cell_type": "code",
   "execution_count": null,
   "id": "bc57832b",
   "metadata": {},
   "outputs": [],
   "source": [
    "for doc in tqdm(documents):\n",
    "    es_client.index(index=index_name, document=doc)"
   ]
  },
  {
   "cell_type": "code",
   "execution_count": null,
   "id": "e884630a",
   "metadata": {},
   "outputs": [],
   "source": [
    "es_client = Elasticsearch('http://localhost:9200') "
   ]
  },
  {
   "cell_type": "code",
   "execution_count": null,
   "id": "152eafbd",
   "metadata": {},
   "outputs": [],
   "source": [
    "for doc in tqdm(documents):\n",
    "    es_client.index(index=index_name, document=doc)"
   ]
  },
  {
   "cell_type": "code",
   "execution_count": 5,
   "id": "e6a68ecb",
   "metadata": {},
   "outputs": [
    {
     "name": "stderr",
     "output_type": "stream",
     "text": [
      "  % Total    % Received % Xferd  Average Speed   Time    Time     Time  Current\n",
      "                                 Dload  Upload   Total   Spent    Left  Speed\n",
      "\n",
      "  0     0    0     0    0     0      0      0 --:--:-- --:--:-- --:--:--     0\n",
      "  0     0    0     0    0     0      0      0 --:--:-- --:--:-- --:--:--     0\n",
      "curl: (52) Empty reply from server\n"
     ]
    }
   ],
   "source": [
    "! curl http://localhost:9200"
   ]
  },
  {
   "cell_type": "code",
   "execution_count": null,
   "id": "a4f46061",
   "metadata": {},
   "outputs": [],
   "source": []
  }
 ],
 "metadata": {
  "kernelspec": {
   "display_name": "venv",
   "language": "python",
   "name": "python3"
  },
  "language_info": {
   "codemirror_mode": {
    "name": "ipython",
    "version": 3
   },
   "file_extension": ".py",
   "mimetype": "text/x-python",
   "name": "python",
   "nbconvert_exporter": "python",
   "pygments_lexer": "ipython3",
   "version": "3.12.1"
  }
 },
 "nbformat": 4,
 "nbformat_minor": 5
}
