{
 "cells": [
  {
   "cell_type": "markdown",
   "id": "8e8913c5",
   "metadata": {},
   "source": [
    "## LLM zoomcamp Homework 1"
   ]
  },
  {
   "cell_type": "markdown",
   "id": "7c6cd704",
   "metadata": {},
   "source": [
    "### Task 1 \n",
    "\n",
    "Run Elastic Search 8.17.6, and get the cluster information. If you run it on localhost, this is how you do it:"
   ]
  },
  {
   "cell_type": "markdown",
   "id": "a7c83312",
   "metadata": {},
   "source": [
    "docker stop elasticsearch\n",
    "docker rm elasticsearch\n",
    "docker pull docker.elastic.co/elasticsearch/elasticsearch:8.17.6\n",
    "\n",
    "docker run -d --name elasticsearch -p 9200:9200 -p 9300:9300 -e \"discovery.type=single-node\" -e \"ELASTIC_PASSWORD=123456\" docker.elastic.co/elasticsearch/elasticsearch:8.17.6\n",
    "\n",
    "docker start elasticsearch\n",
    "docker exec -it elasticsearch bin/elasticsearch-reset-password -u elastic"
   ]
  },
  {
   "cell_type": "code",
   "execution_count": 1,
   "id": "fdf52347",
   "metadata": {},
   "outputs": [],
   "source": [
    "from elasticsearch import Elasticsearch\n",
    "import os \n",
    "from dotenv import load_dotenv"
   ]
  },
  {
   "cell_type": "code",
   "execution_count": 7,
   "id": "e1be1898",
   "metadata": {},
   "outputs": [],
   "source": [
    "load_dotenv()\n",
    "\n",
    "ELASTIC_PASSWORD = os.getenv('ELASTIC_PASSWORD')"
   ]
  },
  {
   "cell_type": "code",
   "execution_count": 3,
   "id": "869677bc",
   "metadata": {},
   "outputs": [
    {
     "name": "stderr",
     "output_type": "stream",
     "text": [
      "  % Total    % Received % Xferd  Average Speed   Time    Time     Time  Current\n",
      "                                 Dload  Upload   Total   Spent    Left  Speed\n",
      "\n",
      "  0     0    0     0    0     0      0      0 --:--:-- --:--:-- --:--:--     0\n",
      "  0     0    0     0    0     0      0      0 --:--:-- --:--:-- --:--:--     0\n",
      "curl: (52) Empty reply from server\n"
     ]
    }
   ],
   "source": [
    "!curl http://localhost:9200"
   ]
  },
  {
   "cell_type": "code",
   "execution_count": 4,
   "id": "e884630a",
   "metadata": {},
   "outputs": [],
   "source": [
    "es_client = Elasticsearch('http://localhost:9200') \n"
   ]
  },
  {
   "cell_type": "code",
   "execution_count": 5,
   "id": "e6a68ecb",
   "metadata": {},
   "outputs": [
    {
     "name": "stderr",
     "output_type": "stream",
     "text": [
      "  % Total    % Received % Xferd  Average Speed   Time    Time     Time  Current\n",
      "                                 Dload  Upload   Total   Spent    Left  Speed\n",
      "\n",
      "  0     0    0     0    0     0      0      0 --:--:-- --:--:-- --:--:--     0\n",
      "  0     0    0     0    0     0      0      0 --:--:-- --:--:-- --:--:--     0\n",
      "curl: (52) Empty reply from server\n"
     ]
    }
   ],
   "source": [
    "! curl http://localhost:9200"
   ]
  },
  {
   "cell_type": "code",
   "execution_count": null,
   "id": "a4f46061",
   "metadata": {},
   "outputs": [],
   "source": []
  }
 ],
 "metadata": {
  "kernelspec": {
   "display_name": "venv",
   "language": "python",
   "name": "python3"
  },
  "language_info": {
   "codemirror_mode": {
    "name": "ipython",
    "version": 3
   },
   "file_extension": ".py",
   "mimetype": "text/x-python",
   "name": "python",
   "nbconvert_exporter": "python",
   "pygments_lexer": "ipython3",
   "version": "3.11.7"
  }
 },
 "nbformat": 4,
 "nbformat_minor": 5
}
